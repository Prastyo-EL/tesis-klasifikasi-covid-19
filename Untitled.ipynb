{
 "cells": [
  {
   "cell_type": "code",
   "execution_count": 1,
   "metadata": {},
   "outputs": [
    {
     "name": "stdout",
     "output_type": "stream",
     "text": [
      "5660\n"
     ]
    }
   ],
   "source": [
    "import requests\n",
    "import numpy as np\n",
    "import pandas as pd\n",
    "\n",
    "r = requests.get('https://coderbyte.com/api/challenges/json/age-counting')\n",
    "print(len(r.json()['data']))"
   ]
  },
  {
   "cell_type": "code",
   "execution_count": null,
   "metadata": {},
   "outputs": [],
   "source": []
  },
  {
   "cell_type": "code",
   "execution_count": 42,
   "metadata": {},
   "outputs": [
    {
     "name": "stdout",
     "output_type": "stream",
     "text": [
      "128\n"
     ]
    }
   ],
   "source": [
    "import requests\n",
    "\n",
    "r = requests.get('https://coderbyte.com/api/challenges/json/age-counting')\n",
    "\n",
    "datas = r.json()\n",
    "\n",
    "result = 0\n",
    "for k in datas['data'].split(','):\n",
    "  if 'age' in k.strip():\n",
    "    if int(k.strip().replace('age=','')) >=50:\n",
    "      result +=1 \n",
    "\n",
    "print(result)"
   ]
  },
  {
   "cell_type": "code",
   "execution_count": 71,
   "metadata": {},
   "outputs": [
    {
     "name": "stdout",
     "output_type": "stream",
     "text": [
      "Length of the string is  16\n",
      "Looping\n",
      "5  and  5  with cur_count =  2  and count =  1\n",
      "5  and  5  with cur_count =  3  and count =  1\n",
      "Looping\n",
      "5  and  5  with cur_count =  2  and count =  2\n",
      "Looping\n",
      "Looping\n",
      "Looping\n",
      "Looping\n",
      "Looping\n",
      "3  and  3  with cur_count =  2  and count =  7\n",
      "Looping\n",
      "Looping\n",
      "Looping\n",
      "Looping\n",
      "Looping\n",
      "Looping\n",
      "Looping\n",
      "6  and  6  with cur_count =  2  and count =  14\n",
      "Looping\n",
      "Looping\n",
      "False\n"
     ]
    }
   ],
   "source": [
    "def NumberStream(string):\n",
    "    global j\n",
    "    l = len(string)\n",
    "    count = 0\n",
    "    #res = string[0]\n",
    "    print(\"Length of the string is \", l)\n",
    "    for i in range(l):\n",
    "        count += 1\n",
    "        cur_count = 1\n",
    "        print(\"Looping\")\n",
    "        for j in range(i+1, l):\n",
    "            if string[i] != string[j]:\n",
    "                break\n",
    "            cur_count += 1\n",
    "            print(string[i], \" and \", string[j], \" with cur_count = \", cur_count, \" and count = \", count)\n",
    "        if string[i] == string[j-1] and string[j-1] == str(cur_count):\n",
    "            return \"True\"\n",
    "    return \"False\"\n",
    "\n",
    "\n",
    "print(NumberStream(\"5556293383563665\"))"
   ]
  },
  {
   "cell_type": "code",
   "execution_count": 72,
   "metadata": {},
   "outputs": [
    {
     "name": "stdout",
     "output_type": "stream",
     "text": [
      "jumlah  16\n",
      "False\n"
     ]
    }
   ],
   "source": [
    "def NumberStream(string):\n",
    "    global j\n",
    "    l = len(string)\n",
    "    count = 0\n",
    "    res = string[0]\n",
    "    print(\"jumlah \", l)\n",
    "    for i in range(l):\n",
    "        count += 1\n",
    "        cur_count = 1\n",
    "        for j in range(i+1, l):\n",
    "            if string[i] != string[j]:\n",
    "                break\n",
    "            cur_count += 1\n",
    "        if string[i] == string[j-1] and string[j-1] == str(cur_count):\n",
    "            return \"True\"\n",
    "    return \"False\"\n",
    "\n",
    "\n",
    "print(NumberStream(\"5556293383563665\"))"
   ]
  },
  {
   "cell_type": "code",
   "execution_count": 73,
   "metadata": {},
   "outputs": [
    {
     "name": "stdout",
     "output_type": "stream",
     "text": [
      "16\n"
     ]
    }
   ],
   "source": [
    "\n",
    "def StockPicker(arr):\n",
    "    bp=0\n",
    "    sp=0\n",
    "    mp=-1\n",
    "    for r in arr:        \n",
    "        if arr[arr.index(r)+1] > r:\n",
    "            bp=r\n",
    "            break\n",
    "    sp=max(arr[_] for _ in range(arr.index(bp),len(arr)))\n",
    "    if sp-bp > mp:\n",
    "        return sp-bp\n",
    "    else:\n",
    "        return mp\n",
    "print(StockPicker([44, 30, 24, 32, 35, 30, 40, 38, 15]))"
   ]
  },
  {
   "cell_type": "code",
   "execution_count": 74,
   "metadata": {},
   "outputs": [
    {
     "name": "stdout",
     "output_type": "stream",
     "text": [
      "16\n"
     ]
    }
   ],
   "source": [
    "x = [45, 24, 35, 31, 40, 38, 11]\n",
    "\n",
    "\n",
    "def stockMax(x):\n",
    "    a1 = []\n",
    "    for i in range(len(x)):\n",
    "        y = x[i+1:]\n",
    "        for j in y:\n",
    "            if x[i] < j:\n",
    "                z = j - x[i]\n",
    "                a1.append(z)\n",
    "    if (a1 == []):\n",
    "        return -1\n",
    "    else:\n",
    "        return max(a1)      \n",
    "print(stockMax(x))"
   ]
  },
  {
   "cell_type": "code",
   "execution_count": 78,
   "metadata": {},
   "outputs": [
    {
     "name": "stdout",
     "output_type": "stream",
     "text": [
      "5\n"
     ]
    }
   ],
   "source": [
    "from collections import deque\n",
    "\n",
    "\n",
    "def stock_max_profit(prices):\n",
    "    max = 0\n",
    "    prices = deque(prices)\n",
    "    buy_price = prices.popleft()\n",
    "\n",
    "\n",
    "    for price in prices:\n",
    "\n",
    "\n",
    "        if price < buy_price:\n",
    "            buy_price = price\n",
    "\n",
    "\n",
    "        else:\n",
    "            profit = price - buy_price\n",
    "\n",
    "\n",
    "            if profit > max:\n",
    "                max = profit\n",
    "\n",
    "\n",
    "    if max:\n",
    "        return max\n",
    "    else:\n",
    "        return -1\n",
    "\n",
    "\n",
    "prices = [10,12,4,5,9]\n",
    "max_profit = stock_max_profit(prices)\n",
    "print(max_profit)"
   ]
  },
  {
   "cell_type": "code",
   "execution_count": 80,
   "metadata": {},
   "outputs": [
    {
     "name": "stdout",
     "output_type": "stream",
     "text": [
      "5\n"
     ]
    }
   ],
   "source": [
    "x = [10,12,4,5,9]\n",
    "\n",
    "\n",
    "def stockMax(x):\n",
    "    a1 = []\n",
    "    for i in range(len(x)):\n",
    "        y = x[i+1:]\n",
    "        for j in y:\n",
    "            if x[i] < j:\n",
    "                z = j - x[i]\n",
    "                a1.append(z)\n",
    "    if (a1 == []):\n",
    "        return -1\n",
    "    else:\n",
    "        return max(a1)      \n",
    "print(stockMax(x))"
   ]
  },
  {
   "cell_type": "code",
   "execution_count": 81,
   "metadata": {},
   "outputs": [
    {
     "name": "stdout",
     "output_type": "stream",
     "text": [
      "44, 30, 24, 32, 35, 30, 40, 38, 15\n"
     ]
    },
    {
     "ename": "TypeError",
     "evalue": "unsupported operand type(s) for -: 'str' and 'str'",
     "output_type": "error",
     "traceback": [
      "\u001b[0;31m---------------------------------------------------------------------------\u001b[0m",
      "\u001b[0;31mTypeError\u001b[0m                                 Traceback (most recent call last)",
      "\u001b[0;32m<ipython-input-81-e19d63c5f284>\u001b[0m in \u001b[0;36m<module>\u001b[0;34m\u001b[0m\n\u001b[1;32m     25\u001b[0m \u001b[0;34m\u001b[0m\u001b[0m\n\u001b[1;32m     26\u001b[0m \u001b[0;31m# keep this function call here\u001b[0m\u001b[0;34m\u001b[0m\u001b[0;34m\u001b[0m\u001b[0;34m\u001b[0m\u001b[0m\n\u001b[0;32m---> 27\u001b[0;31m \u001b[0mprint\u001b[0m\u001b[0;34m(\u001b[0m\u001b[0mStockPicker\u001b[0m\u001b[0;34m(\u001b[0m\u001b[0minput\u001b[0m\u001b[0;34m(\u001b[0m\u001b[0;34m)\u001b[0m\u001b[0;34m)\u001b[0m\u001b[0;34m)\u001b[0m\u001b[0;34m\u001b[0m\u001b[0;34m\u001b[0m\u001b[0m\n\u001b[0m",
      "\u001b[0;32m<ipython-input-81-e19d63c5f284>\u001b[0m in \u001b[0;36mStockPicker\u001b[0;34m(arr)\u001b[0m\n\u001b[1;32m     22\u001b[0m   \u001b[0msell\u001b[0m \u001b[0;34m=\u001b[0m \u001b[0msorted\u001b[0m\u001b[0;34m(\u001b[0m\u001b[0marr\u001b[0m\u001b[0;34m[\u001b[0m\u001b[0midx\u001b[0m\u001b[0;34m:\u001b[0m\u001b[0;34m:\u001b[0m\u001b[0;34m]\u001b[0m\u001b[0;34m,\u001b[0m\u001b[0mreverse\u001b[0m\u001b[0;34m=\u001b[0m\u001b[0;32mTrue\u001b[0m\u001b[0;34m)\u001b[0m\u001b[0;34m[\u001b[0m\u001b[0;36m0\u001b[0m\u001b[0;34m]\u001b[0m\u001b[0;34m\u001b[0m\u001b[0;34m\u001b[0m\u001b[0m\n\u001b[1;32m     23\u001b[0m \u001b[0;34m\u001b[0m\u001b[0m\n\u001b[0;32m---> 24\u001b[0;31m   \u001b[0;32mreturn\u001b[0m \u001b[0msell\u001b[0m \u001b[0;34m-\u001b[0m \u001b[0mcur_pick\u001b[0m\u001b[0;34m\u001b[0m\u001b[0;34m\u001b[0m\u001b[0m\n\u001b[0m\u001b[1;32m     25\u001b[0m \u001b[0;34m\u001b[0m\u001b[0m\n\u001b[1;32m     26\u001b[0m \u001b[0;31m# keep this function call here\u001b[0m\u001b[0;34m\u001b[0m\u001b[0;34m\u001b[0m\u001b[0;34m\u001b[0m\u001b[0m\n",
      "\u001b[0;31mTypeError\u001b[0m: unsupported operand type(s) for -: 'str' and 'str'"
     ]
    }
   ],
   "source": [
    "def StockPicker(arr):\n",
    "  cek = 0\n",
    "  for i in range(len(arr)):      \n",
    "    try:\n",
    "      if arr[i+1] > arr[i]:\n",
    "        cek = 1\n",
    "    except:\n",
    "      continue\n",
    "\n",
    "  if cek == 0:\n",
    "    return -1\n",
    "\n",
    "  orig_arr = arr\n",
    "  if sorted(arr)[0] == arr[-1]:\n",
    "    cant_pick = sorted(arr)[0]\n",
    "    arr.remove(cant_pick)\n",
    "    cur_pick = sorted(arr)[0]\n",
    "  else:\n",
    "    cur_pick = sorted(arr)[0]\n",
    "\n",
    "  idx = arr.index(cur_pick)\n",
    "  sell = sorted(arr[idx::],reverse=True)[0]\n",
    "\n",
    "  return sell - cur_pick\n",
    "\n",
    "# keep this function call here \n",
    "print(StockPicker(input()))"
   ]
  },
  {
   "cell_type": "code",
   "execution_count": null,
   "metadata": {},
   "outputs": [],
   "source": []
  }
 ],
 "metadata": {
  "kernelspec": {
   "display_name": "Python [conda env:img-cap] *",
   "language": "python",
   "name": "conda-env-img-cap-py"
  },
  "language_info": {
   "codemirror_mode": {
    "name": "ipython",
    "version": 3
   },
   "file_extension": ".py",
   "mimetype": "text/x-python",
   "name": "python",
   "nbconvert_exporter": "python",
   "pygments_lexer": "ipython3",
   "version": "3.7.7"
  }
 },
 "nbformat": 4,
 "nbformat_minor": 4
}
