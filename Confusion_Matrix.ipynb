{
 "cells": [
  {
   "cell_type": "code",
   "execution_count": 7,
   "metadata": {
    "id": "h_JB7IIS5yso"
   },
   "outputs": [],
   "source": [
    "import sklearn\n",
    "import pandas\n",
    "import matplotlib\n",
    "import seaborn"
   ]
  },
  {
   "cell_type": "code",
   "execution_count": 8,
   "metadata": {
    "id": "ckMn9O_RhAIR"
   },
   "outputs": [],
   "source": [
    "# Actual Value\n",
    "labels = [1, 0, 0, 1, 1, 1, 0, 1, 1, 1]\n",
    "# Predicted Value\n",
    "predictions = [0, 1, 1, 1, 1, 0, 1, 0, 1, 0]"
   ]
  },
  {
   "cell_type": "markdown",
   "metadata": {
    "id": "WT-eNxTfl3dM"
   },
   "source": [
    "### True Positive"
   ]
  },
  {
   "cell_type": "code",
   "execution_count": 9,
   "metadata": {
    "colab": {
     "base_uri": "https://localhost:8080/"
    },
    "id": "k3IBrH23l0kO",
    "outputId": "405989ac-7144-4cc8-8456-52da1cb29e58"
   },
   "outputs": [
    {
     "name": "stdout",
     "output_type": "stream",
     "text": [
      "True Positive:  3\n"
     ]
    }
   ],
   "source": [
    "TP = 0\n",
    "\n",
    "for i in range(0,len(labels)):\n",
    "    if labels[i] == predictions[i] and labels[i] == 1:\n",
    "        TP+=1\n",
    "print(\"True Positive: \", TP)"
   ]
  },
  {
   "cell_type": "markdown",
   "metadata": {
    "id": "zAA04iRsprPG"
   },
   "source": [
    "### False Positive"
   ]
  },
  {
   "cell_type": "code",
   "execution_count": 10,
   "metadata": {
    "colab": {
     "base_uri": "https://localhost:8080/"
    },
    "id": "M6ddE1zApkAW",
    "outputId": "7c8929c3-0788-4ded-f15b-f235f1ab8c1f"
   },
   "outputs": [
    {
     "name": "stdout",
     "output_type": "stream",
     "text": [
      "False Positive:  3\n"
     ]
    }
   ],
   "source": [
    "FP = 0\n",
    "\n",
    "for i in range(0,len(labels)):\n",
    "    if labels[i] == 0 and predictions[i] == 1:\n",
    "        FP+=1\n",
    "print(\"False Positive: \", FP)"
   ]
  },
  {
   "cell_type": "markdown",
   "metadata": {
    "id": "F8_WwccXvmO0"
   },
   "source": [
    "### True Negative"
   ]
  },
  {
   "cell_type": "code",
   "execution_count": 11,
   "metadata": {
    "colab": {
     "base_uri": "https://localhost:8080/"
    },
    "id": "AniEDE6JvlSN",
    "outputId": "7703bf0d-0c25-432b-a88b-a70da1471903"
   },
   "outputs": [
    {
     "name": "stdout",
     "output_type": "stream",
     "text": [
      "True Negative:  0\n"
     ]
    }
   ],
   "source": [
    "TN = 0\n",
    "for i in range(0,len(labels)):\n",
    "    if labels[i] == predictions[i] and labels[i] == 0:\n",
    "        TN+=1\n",
    "print(\"True Negative: \", TN)"
   ]
  },
  {
   "cell_type": "markdown",
   "metadata": {
    "id": "qFH4qabLxbFs"
   },
   "source": [
    "### False Negative"
   ]
  },
  {
   "cell_type": "code",
   "execution_count": 12,
   "metadata": {
    "colab": {
     "base_uri": "https://localhost:8080/"
    },
    "id": "pfE1xpBmxZfB",
    "outputId": "f8ae31d6-42aa-483d-ff41-42753242e70f"
   },
   "outputs": [
    {
     "name": "stdout",
     "output_type": "stream",
     "text": [
      "False Negative:  4\n"
     ]
    }
   ],
   "source": [
    "FN = 0\n",
    "for i in range(0,len(labels)):\n",
    "    if labels[i] == 1 and predictions[i] == 0:\n",
    "        FN+=1\n",
    "print(\"False Negative: \", FN)"
   ]
  },
  {
   "cell_type": "markdown",
   "metadata": {
    "id": "jR1JVVFe0M3j"
   },
   "source": [
    "### Correct Prediction\n"
   ]
  },
  {
   "cell_type": "code",
   "execution_count": 13,
   "metadata": {
    "colab": {
     "base_uri": "https://localhost:8080/"
    },
    "id": "uACwaq670Ll9",
    "outputId": "9ecf2340-81e9-43f4-d404-f7d2c1865a24"
   },
   "outputs": [
    {
     "name": "stdout",
     "output_type": "stream",
     "text": [
      "Correct Prediction:  3\n",
      "True\n"
     ]
    }
   ],
   "source": [
    "CP = 0\n",
    "for i in range(0,len(labels)):\n",
    "    if labels[i] == predictions[i]:\n",
    "        CP+=1\n",
    "print(\"Correct Prediction: \", CP)\n",
    "print(CP == TP + TN)"
   ]
  },
  {
   "cell_type": "markdown",
   "metadata": {
    "id": "nyccDs7R3fcQ"
   },
   "source": [
    "### Incorrect Prediction"
   ]
  },
  {
   "cell_type": "code",
   "execution_count": 14,
   "metadata": {
    "colab": {
     "base_uri": "https://localhost:8080/"
    },
    "id": "-S9mJNeN3eS1",
    "outputId": "93c26139-1b57-4a8f-db34-322db8d93832"
   },
   "outputs": [
    {
     "name": "stdout",
     "output_type": "stream",
     "text": [
      "Incorrect Prediction:  7\n",
      "True\n"
     ]
    }
   ],
   "source": [
    "ICP = 0\n",
    "for i in range(0,len(labels)):\n",
    "    if labels[i] != predictions[i]:\n",
    "        ICP+=1\n",
    "print(\"Incorrect Prediction: \", ICP)\n",
    "print(ICP == FP + FN)"
   ]
  },
  {
   "cell_type": "markdown",
   "metadata": {
    "id": "0ocIuHc37tv-"
   },
   "source": [
    "### Accuracy"
   ]
  },
  {
   "cell_type": "code",
   "execution_count": 15,
   "metadata": {
    "colab": {
     "base_uri": "https://localhost:8080/"
    },
    "id": "GAuFEgBy7s5s",
    "outputId": "749c2462-ab4c-4d23-ab3c-65df976c1c13"
   },
   "outputs": [
    {
     "name": "stdout",
     "output_type": "stream",
     "text": [
      "30.0\n"
     ]
    }
   ],
   "source": [
    "accuracy = (TP + TN)/(TP + FP + TN + FN)\n",
    "print(accuracy*100)"
   ]
  },
  {
   "cell_type": "code",
   "execution_count": 16,
   "metadata": {
    "colab": {
     "base_uri": "https://localhost:8080/"
    },
    "id": "rqAKJlhT8NUz",
    "outputId": "a64a6cc1-b363-4b57-bab4-14b048dc98c0"
   },
   "outputs": [
    {
     "name": "stdout",
     "output_type": "stream",
     "text": [
      "30.0\n"
     ]
    }
   ],
   "source": [
    "from sklearn.metrics import accuracy_score\n",
    "print(accuracy_score(labels , predictions)*100)"
   ]
  },
  {
   "cell_type": "markdown",
   "metadata": {
    "id": "_BhmnDwm9twc"
   },
   "source": [
    "### Recall"
   ]
  },
  {
   "cell_type": "code",
   "execution_count": 17,
   "metadata": {
    "colab": {
     "base_uri": "https://localhost:8080/"
    },
    "id": "RFir9mq49svP",
    "outputId": "e3253935-a9c4-4c30-8f29-02df937c08b0"
   },
   "outputs": [
    {
     "name": "stdout",
     "output_type": "stream",
     "text": [
      "80.0\n"
     ]
    }
   ],
   "source": [
    "labels = [0,0,0,0,1,0,0,1,0,0]\n",
    "predictions = [0 ,0 ,0 ,0 ,0 , 0 ,0 ,0 ,0 ,0]\n",
    "print(accuracy_score(labels , predictions)*100)"
   ]
  },
  {
   "cell_type": "code",
   "execution_count": 18,
   "metadata": {
    "colab": {
     "base_uri": "https://localhost:8080/"
    },
    "id": "GT2zrMST_08l",
    "outputId": "e322bfbc-5997-4b66-ac49-850cbd2a99c1"
   },
   "outputs": [
    {
     "name": "stdout",
     "output_type": "stream",
     "text": [
      "0.3333333333333333\n"
     ]
    }
   ],
   "source": [
    "for i in range(0,len(labels)):\n",
    "    if labels[i] == predictions[i] and labels[i] == 1:\n",
    "        TP+=1\n",
    "for i in range(0,len(labels)):\n",
    "    if labels[i] == 1 and predictions[i] == 0:\n",
    "        FN+=1\n",
    "recall = (TP)/(TP+FN)\n",
    "print(recall)"
   ]
  },
  {
   "cell_type": "code",
   "execution_count": 19,
   "metadata": {
    "colab": {
     "base_uri": "https://localhost:8080/"
    },
    "id": "s8-tN62DBkOa",
    "outputId": "a7448a8e-72ae-409f-a746-d02af5d5f8b4"
   },
   "outputs": [
    {
     "name": "stdout",
     "output_type": "stream",
     "text": [
      "0.0\n"
     ]
    }
   ],
   "source": [
    "from sklearn.metrics import recall_score\n",
    "print(recall_score(labels,predictions))"
   ]
  },
  {
   "cell_type": "markdown",
   "metadata": {
    "id": "F8tw2TRXCkBS"
   },
   "source": [
    "### Precision"
   ]
  },
  {
   "cell_type": "code",
   "execution_count": 20,
   "metadata": {
    "colab": {
     "base_uri": "https://localhost:8080/"
    },
    "id": "mcM1Q-TaCjRo",
    "outputId": "eb2734e1-7a92-461f-9efc-7c3307dbd5de"
   },
   "outputs": [
    {
     "name": "stdout",
     "output_type": "stream",
     "text": [
      "20.0\n",
      "100.0\n"
     ]
    }
   ],
   "source": [
    "labels = [0,0,0,0,1,0,0,1,0,0]\n",
    "predictions = [1,1,1,1,1,1,1,1,1,1]\n",
    "print(accuracy_score(labels , predictions)*100)\n",
    "print(recall_score(labels , predictions)*100)"
   ]
  },
  {
   "cell_type": "code",
   "execution_count": 21,
   "metadata": {
    "colab": {
     "base_uri": "https://localhost:8080/"
    },
    "id": "W-wziucoqFfy",
    "outputId": "808cc294-5722-415f-e0bb-e7c6520f7532"
   },
   "outputs": [
    {
     "name": "stdout",
     "output_type": "stream",
     "text": [
      "0.2\n"
     ]
    }
   ],
   "source": [
    "TP,FP = 0,0 \n",
    "for i in range(0,len(labels)):\n",
    "    if labels[i] == predictions[i] and labels[i] == 1:\n",
    "        TP+=1\n",
    "for i in range(0,len(labels)):\n",
    "    if labels[i] == 0 and predictions[i] == 1:\n",
    "        FP+=1\n",
    "precision = TP/(TP+FP)\n",
    "print(precision)\n",
    "recall = recall_score(labels, predictions)\n"
   ]
  },
  {
   "cell_type": "code",
   "execution_count": 22,
   "metadata": {
    "colab": {
     "base_uri": "https://localhost:8080/"
    },
    "id": "_uQqgou_q95e",
    "outputId": "16871d7d-c699-4b7a-be41-7d20df91ce85"
   },
   "outputs": [
    {
     "name": "stdout",
     "output_type": "stream",
     "text": [
      "20.0\n"
     ]
    }
   ],
   "source": [
    "from sklearn.metrics import precision_score\n",
    "print(precision_score(labels,predictions)*100)"
   ]
  },
  {
   "cell_type": "markdown",
   "metadata": {
    "id": "X9RCEgUrtA8j"
   },
   "source": [
    "### F1 Score"
   ]
  },
  {
   "cell_type": "code",
   "execution_count": 23,
   "metadata": {
    "colab": {
     "base_uri": "https://localhost:8080/"
    },
    "id": "VxgYduZps_vo",
    "outputId": "a1bb14f2-913b-412e-8407-82ed37d0f3aa"
   },
   "outputs": [
    {
     "name": "stdout",
     "output_type": "stream",
     "text": [
      "0.6\n",
      "0.33333333333333337\n"
     ]
    }
   ],
   "source": [
    "AM = (1 + 0.2)/2\n",
    "HM = 2*(1*0.2)/(1+0.2)\n",
    "print(AM)\n",
    "print(HM)"
   ]
  },
  {
   "cell_type": "code",
   "execution_count": 24,
   "metadata": {
    "colab": {
     "base_uri": "https://localhost:8080/"
    },
    "id": "LnnewAmfu32r",
    "outputId": "52cf0f23-63ad-4ade-99b7-365b2f5b7c90"
   },
   "outputs": [
    {
     "name": "stdout",
     "output_type": "stream",
     "text": [
      "0.33333333333333337\n",
      "0.33333333333333337\n"
     ]
    }
   ],
   "source": [
    "\n",
    "f1 = 2*(precision * recall)/(precision + recall)\n",
    "print(f1)\n",
    "from sklearn.metrics import f1_score\n",
    "print(f1_score(labels, predictions))"
   ]
  },
  {
   "cell_type": "markdown",
   "metadata": {
    "id": "NBpsDWkXvzue"
   },
   "source": [
    "### Confusion Matrix"
   ]
  },
  {
   "cell_type": "code",
   "execution_count": 25,
   "metadata": {
    "colab": {
     "base_uri": "https://localhost:8080/"
    },
    "id": "vSCrBs-Dvymo",
    "outputId": "91c513e6-944e-47dd-9499-215ef661e711"
   },
   "outputs": [
    {
     "name": "stdout",
     "output_type": "stream",
     "text": [
      "7\n",
      "3\n",
      "5\n",
      "5\n"
     ]
    }
   ],
   "source": [
    "# Actual Value\n",
    "labels = [1, 0, 0, 1, 1, 1, 0, 1, 1, 1]\n",
    "# Predicted Value\n",
    "predictions = [0, 0, 1, 1, 1, 0, 1, 0, 1, 0]\n",
    "print(sum([1 for e in labels if e ==1 ]))\n",
    "print(sum([1 for e in labels if e ==0 ]))\n",
    "\n",
    "print(sum([1 for e in predictions if e ==1 ]))\n",
    "print(sum([1 for e in predictions if e ==0 ]))"
   ]
  },
  {
   "cell_type": "code",
   "execution_count": 26,
   "metadata": {
    "colab": {
     "base_uri": "https://localhost:8080/",
     "height": 265
    },
    "id": "a_o4Igud2vPA",
    "outputId": "981af2fc-dad0-4c17-d0b2-70c6eed38d0e"
   },
   "outputs": [
    {
     "data": {
      "image/png": "[encoded data removed]",
      "text/plain": [
       "<Figure size 640x480 with 1 Axes>"
      ]
     },
     "metadata": {},
     "output_type": "display_data"
    }
   ],
   "source": [
    "from sklearn.metrics import confusion_matrix\n",
    "import matplotlib.pyplot as plt\n",
    "from sklearn.metrics import confusion_matrix\n",
    "confusion = confusion_matrix(labels, predictions , normalize= 'all')\n",
    "FN = confusion[1][0]\n",
    "TN = confusion[0][0]\n",
    "TP = confusion[1][1]\n",
    "FP = confusion[0][1]\n",
    "plt.bar(['False Negative' , 'True Negative' , 'True Positive' , 'False Positive'],[FN,TN,TP,FP])\n",
    "plt.show()"
   ]
  },
  {
   "cell_type": "code",
   "execution_count": 27,
   "metadata": {
    "colab": {
     "base_uri": "https://localhost:8080/",
     "height": 283
    },
    "id": "3wlygjXy5dqs",
    "outputId": "1ca81344-0252-4e70-ff91-8ada0eacdd00"
   },
   "outputs": [
    {
     "data": {
      "image/png": "[encoded data removed]",
      "text/plain": [
       "<Figure size 640x480 with 2 Axes>"
      ]
     },
     "metadata": {},
     "output_type": "display_data"
    }
   ],
   "source": [
    "import seaborn as sns\n",
    "sns.heatmap(confusion , annot=True , xticklabels=['Negative' , 'Positive'] , yticklabels=['Negative' , 'Positive'])\n",
    "plt.ylabel(\"Label\")\n",
    "plt.xlabel(\"Predicted\")\n",
    "plt.show()"
   ]
  },
  {
   "cell_type": "code",
   "execution_count": 28,
   "metadata": {
    "colab": {
     "base_uri": "https://localhost:8080/"
    },
    "id": "fcR2Tr2B7t7u",
    "outputId": "fc8204da-d919-4d52-bc38-0ff478950b33"
   },
   "outputs": [
    {
     "name": "stdout",
     "output_type": "stream",
     "text": [
      "Predictions  0  1\n",
      "Labels           \n",
      "0            1  2\n",
      "1            4  3\n"
     ]
    }
   ],
   "source": [
    "import pandas as pd\n",
    "\n",
    "data = {'Labels' : labels, 'Predictions': predictions}\n",
    "df = pd.DataFrame(data, columns=['Labels','Predictions'])\n",
    "confusion_matrix = pd.crosstab(df['Labels'], df['Predictions'], rownames=['Labels'], colnames=['Predictions'])\n",
    "print (confusion_matrix)"
   ]
  },
  {
   "cell_type": "code",
   "execution_count": 29,
   "metadata": {
    "colab": {
     "base_uri": "https://localhost:8080/"
    },
    "id": "ehuf7RJm-PWv",
    "outputId": "c15e5e69-782c-4ab2-e7d1-98c0227ad846"
   },
   "outputs": [
    {
     "name": "stdout",
     "output_type": "stream",
     "text": [
      "              precision    recall  f1-score   support\n",
      "\n",
      "           0       0.20      0.33      0.25         3\n",
      "           1       0.60      0.43      0.50         7\n",
      "\n",
      "    accuracy                           0.40        10\n",
      "   macro avg       0.40      0.38      0.38        10\n",
      "weighted avg       0.48      0.40      0.42        10\n",
      "\n"
     ]
    }
   ],
   "source": [
    "from sklearn.metrics import classification_report\n",
    "print(classification_report(labels,predictions))"
   ]
  },
  {
   "cell_type": "code",
   "execution_count": null,
   "metadata": {},
   "outputs": [],
   "source": []
  },
  {
   "cell_type": "code",
   "execution_count": null,
   "metadata": {},
   "outputs": [],
   "source": []
  },
  {
   "cell_type": "code",
   "execution_count": null,
   "metadata": {},
   "outputs": [],
   "source": []
  }
 ],
 "metadata": {
  "colab": {
   "name": "Confusion Matrix.ipynb",
   "provenance": []
  },
  "kernelspec": {
   "display_name": "Python 3 (ipykernel)",
   "language": "python",
   "name": "python3"
  },
  "language_info": {
   "codemirror_mode": {
    "name": "ipython",
    "version": 3
   },
   "file_extension": ".py",
   "mimetype": "text/x-python",
   "name": "python",
   "nbconvert_exporter": "python",
   "pygments_lexer": "ipython3",
   "version": "3.10.2"
  }
 },
 "nbformat": 4,
 "nbformat_minor": 1
}
